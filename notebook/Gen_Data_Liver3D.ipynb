{
 "cells": [
  {
   "cell_type": "code",
   "execution_count": null,
   "metadata": {
    "colab": {
     "base_uri": "https://localhost:8080/",
     "height": 34
    },
    "colab_type": "code",
    "id": "oL8GeGD3TxgQ",
    "outputId": "45018631-571c-4e12-907f-4a6efaf679cd"
   },
   "outputs": [
    {
     "name": "stdout",
     "output_type": "stream",
     "text": [
      "Mounted at /content/drive\n"
     ]
    }
   ],
   "source": [
    "from google.colab import drive\n",
    "drive.mount('/content/drive', force_remount=True)"
   ]
  },
  {
   "cell_type": "code",
   "execution_count": null,
   "metadata": {
    "colab": {
     "base_uri": "https://localhost:8080/",
     "height": 34
    },
    "colab_type": "code",
    "id": "WC-ir1InQ5xv",
    "outputId": "952d27ab-8189-4dc7-d6b2-e9406530a8c7"
   },
   "outputs": [
    {
     "name": "stdout",
     "output_type": "stream",
     "text": [
      "Requirement already satisfied: SimpleITK in /usr/local/lib/python3.6/dist-packages (1.2.4)\n"
     ]
    }
   ],
   "source": [
    "!pip install SimpleITK"
   ]
  },
  {
   "cell_type": "code",
   "execution_count": null,
   "metadata": {
    "colab": {
     "base_uri": "https://localhost:8080/",
     "height": 34
    },
    "colab_type": "code",
    "id": "ox6iMoMERkCw",
    "outputId": "0d26c43f-2e96-4354-affe-7833b04f84cf"
   },
   "outputs": [
    {
     "name": "stdout",
     "output_type": "stream",
     "text": [
      "/content/drive/My Drive/LV/liver-seg-03-08\n"
     ]
    }
   ],
   "source": [
    "%cd /content/drive/My Drive/LV/liver-seg-03-08"
   ]
  },
  {
   "cell_type": "code",
   "execution_count": null,
   "metadata": {
    "colab": {},
    "colab_type": "code",
    "id": "JfF1AmA3QDGF"
   },
   "outputs": [],
   "source": [
    "from data_utils import GenData\n",
    "import torch\n",
    "import matplotlib.pyplot as plt"
   ]
  },
  {
   "cell_type": "code",
   "execution_count": null,
   "metadata": {
    "colab": {},
    "colab_type": "code",
    "id": "pAfpqRsqRhv0"
   },
   "outputs": [],
   "source": [
    "####### Dataset split ########\n",
    "# LITS: idx -> idx\n",
    "# Sliver: idx -> idx + 131\n",
    "# 3dircad: idx -> idx + 151\n",
    "LST_VALIDATION = [66, 84, 2, 95, 45, 30, 81, 75, 127, 53, 41, 64, 96, 103, 59,   144, 147, 139,   168, 156, 162]\n",
    "LST_TESTING = [76, 121, 104, 32, 51, 29, 17, 24, 31, 58, 89, 28, 35, 112, 113,   132, 142, 140,   170, 154, 169]\n",
    "LST_TRAINING = [i for i in range(0, 171) if i not in LST_VALIDATION and i not in LST_TESTING]\n",
    "##############################\n",
    "# Setting\n",
    "VOL_SIZE = (64, 192, 192) # D x H x W\n",
    "RANDOM_CROP = True\n",
    "N_SUBVOL_PER_VOL = 20 # numper subvolume per volume\n",
    "N_AUG_SAMPLES = 3 # Set it to 0 if no use AUG\n",
    "SAVE_DIR = '/content/drive/My Drive/LV/dataset/MIXED/val_64_192_random/'\n",
    "LST_IDX = sorted(LST_VALIDATION)\n",
    "\n",
    "HU_MIN = -1000\n",
    "HU_MAX = 400\n",
    "AD_ITERATIONS = 0\n",
    "\n",
    "BUFFER_CAPACITY = 200 # Number sample per folder\n",
    "PTH_DIR = '/content/drive/My Drive/Tumor_src/Datasets/MIXED_10iters/'\n",
    "\n",
    "# Aug setting\n",
    "ROTATE_PROB = 0.5\n",
    "ELASTIC_PROB = 0.5\n",
    "MAX_ROTATE_ANGLE_X = 10\n",
    "MAX_ROTATE_ANGLE_Y = 10\n",
    "MAX_ROTATE_ANGLE_Z = 45"
   ]
  },
  {
   "cell_type": "code",
   "execution_count": null,
   "metadata": {
    "colab": {
     "base_uri": "https://localhost:8080/",
     "height": 1000
    },
    "colab_type": "code",
    "id": "EoL2oxxHQI7x",
    "outputId": "182c8f47-4bbd-46d7-cdc6-560ab0cd7e42"
   },
   "outputs": [
    {
     "name": "stdout",
     "output_type": "stream",
     "text": [
      "sub_volumes shape: (1, 1, 64, 192, 192)\n",
      "# Load volume 2 completed (517, 396, 396) (517, 396, 396)\n",
      "After get box: (517, 356, 396) (517, 356, 396)\n",
      "Generate sub-volume completed (20, 1, 64, 192, 192) (20, 1, 64, 192, 192)\n",
      "+ Random rotation y\n",
      "++ Random crop z\n",
      "+ Random rotation z\n",
      "(389, 389, 64) (389, 389, 64)\n",
      "+ Elastic Transform Perform\n",
      "Generate aug sub-volume completed (20, 1, 64, 192, 192) (20, 1, 64, 192, 192)\n",
      "++ Random crop z\n",
      "Generate aug sub-volume completed (20, 1, 64, 192, 192) (20, 1, 64, 192, 192)\n",
      "+ Random rotation x\n",
      "+ Random rotation y\n",
      "++ Random crop z\n",
      "(356, 356, 64) (356, 356, 64)\n",
      "+ Elastic Transform Perform\n",
      "Generate aug sub-volume completed (20, 1, 64, 192, 192) (20, 1, 64, 192, 192)\n",
      "Done volume 2\n",
      "# Load volume 30 completed (200, 512, 512) (200, 512, 512)\n",
      "After get box: (200, 428, 507) (200, 428, 507)\n",
      "Generate sub-volume completed (20, 1, 64, 192, 192) (20, 1, 64, 192, 192)\n",
      "+ Random rotation x\n",
      "++ Random crop z\n",
      "Generate aug sub-volume completed (20, 1, 64, 192, 192) (20, 1, 64, 192, 192)\n",
      "+ Random rotation y\n",
      "++ Random crop z\n",
      "Generate aug sub-volume completed (20, 1, 64, 192, 192) (20, 1, 64, 192, 192)\n",
      "+ Random rotation x\n",
      "++ Random crop z\n",
      "(428, 428, 64) (428, 428, 64)\n",
      "+ Elastic Transform Perform\n",
      "Generate aug sub-volume completed (20, 1, 64, 192, 192) (20, 1, 64, 192, 192)\n",
      "Done volume 30\n",
      "# Load volume 41 completed (113, 512, 512) (113, 512, 512)\n",
      "After get box: (113, 380, 439) (113, 380, 439)\n",
      "Generate sub-volume completed (20, 1, 64, 192, 192) (20, 1, 64, 192, 192)\n",
      "++ Random crop z\n",
      "+ Random rotation z\n",
      "Generate aug sub-volume completed (20, 1, 64, 192, 192) (20, 1, 64, 192, 192)\n",
      "+ Random rotation y\n",
      "++ Random crop z\n",
      "+ Random rotation z\n",
      "Generate aug sub-volume completed (20, 1, 64, 192, 192) (20, 1, 64, 192, 192)\n",
      "+ Random rotation x\n",
      "++ Random crop z\n",
      "Generate aug sub-volume completed (20, 1, 64, 192, 192) (20, 1, 64, 192, 192)\n",
      "%Liver: 0.14756375630696614\n",
      "Saved buffer (41, 1, 64, 192, 192) (41, 1, 64, 192, 192)\n",
      "Done volume 41\n",
      "# Load volume 45 completed (74, 512, 512) (74, 512, 512)\n",
      "After get box: (74, 397, 512) (74, 397, 512)\n",
      "Generate sub-volume completed (20, 1, 64, 192, 192) (20, 1, 64, 192, 192)\n",
      "+ Random rotation x\n",
      "++ Random crop z\n",
      "Generate aug sub-volume completed (20, 1, 64, 192, 192) (20, 1, 64, 192, 192)\n",
      "+ Random rotation x\n",
      "++ Random crop z\n",
      "Generate aug sub-volume completed (20, 1, 64, 192, 192) (20, 1, 64, 192, 192)\n",
      "+ Random rotation x\n",
      "++ Random crop z\n",
      "+ Random rotation z\n",
      "Generate aug sub-volume completed (20, 1, 64, 192, 192) (20, 1, 64, 192, 192)\n",
      "Done volume 45\n",
      "# Load volume 53 completed (420, 434, 434) (420, 434, 434)\n",
      "After get box: (420, 355, 433) (420, 355, 433)\n",
      "Generate sub-volume completed (20, 1, 64, 192, 192) (20, 1, 64, 192, 192)\n",
      "+ Random rotation y\n",
      "++ Random crop z\n",
      "+ Random rotation z\n",
      "(428, 428, 64) (428, 428, 64)\n",
      "+ Elastic Transform Perform\n",
      "Generate aug sub-volume completed (20, 1, 64, 192, 192) (20, 1, 64, 192, 192)\n",
      "+ Random rotation y\n",
      "++ Random crop z\n",
      "+ Random rotation z\n",
      "(492, 492, 64) (492, 492, 64)\n",
      "+ Elastic Transform Perform\n",
      "Generate aug sub-volume completed (20, 1, 64, 192, 192) (20, 1, 64, 192, 192)\n",
      "++ Random crop z\n",
      "+ Random rotation z\n",
      "Generate aug sub-volume completed (20, 1, 64, 192, 192) (20, 1, 64, 192, 192)\n",
      "%Liver: 0.15477138095431858\n",
      "Saved buffer (1, 1, 64, 192, 192) (1, 1, 64, 192, 192)\n",
      "Done volume 53\n",
      "# Load volume 59 completed (432, 350, 350) (432, 350, 350)\n",
      "After get box: (432, 286, 350) (432, 286, 350)\n",
      "Generate sub-volume completed (20, 1, 64, 192, 192) (20, 1, 64, 192, 192)\n",
      "+ Random rotation x\n",
      "++ Random crop z\n",
      "+ Random rotation z\n",
      "(401, 401, 64) (401, 401, 64)\n",
      "+ Elastic Transform Perform\n",
      "Generate aug sub-volume completed (20, 1, 64, 192, 192) (20, 1, 64, 192, 192)\n",
      "++ Random crop z\n",
      "Generate aug sub-volume completed (20, 1, 64, 192, 192) (20, 1, 64, 192, 192)\n",
      "+ Random rotation y\n",
      "++ Random crop z\n",
      "(286, 286, 64) (286, 286, 64)\n",
      "+ Elastic Transform Perform\n",
      "Generate aug sub-volume completed (20, 1, 64, 192, 192) (20, 1, 64, 192, 192)\n",
      "Done volume 59\n",
      "# Load volume 64 completed (460, 398, 398) (460, 398, 398)\n",
      "After get box: (460, 398, 398) (460, 398, 398)\n",
      "Generate sub-volume completed (20, 1, 64, 192, 192) (20, 1, 64, 192, 192)\n",
      "+ Random rotation x\n",
      "+ Random rotation y\n",
      "++ Random crop z\n",
      "Generate aug sub-volume completed (20, 1, 64, 192, 192) (20, 1, 64, 192, 192)\n",
      "+ Random rotation x\n",
      "+ Random rotation y\n",
      "++ Random crop z\n",
      "Generate aug sub-volume completed (20, 1, 64, 192, 192) (20, 1, 64, 192, 192)\n",
      "++ Random crop z\n",
      "+ Random rotation z\n",
      "Generate aug sub-volume completed (20, 1, 64, 192, 192) (20, 1, 64, 192, 192)\n",
      "Done volume 64\n",
      "# Load volume 66 completed (430, 364, 364) (430, 364, 364)\n",
      "After get box: (430, 309, 364) (430, 309, 364)\n",
      "Generate sub-volume completed (20, 1, 64, 192, 192) (20, 1, 64, 192, 192)\n",
      "+ Random rotation y\n",
      "++ Random crop z\n",
      "Generate aug sub-volume completed (20, 1, 64, 192, 192) (20, 1, 64, 192, 192)\n",
      "+ Random rotation x\n",
      "++ Random crop z\n",
      "+ Random rotation z\n",
      "Generate aug sub-volume completed (20, 1, 64, 192, 192) (20, 1, 64, 192, 192)\n",
      "+ Random rotation x\n",
      "+ Random rotation y\n",
      "++ Random crop z\n",
      "+ Random rotation z\n",
      "(379, 379, 64) (379, 379, 64)\n",
      "+ Elastic Transform Perform\n",
      "Generate aug sub-volume completed (20, 1, 64, 192, 192) (20, 1, 64, 192, 192)\n",
      "%Liver: 0.1134608777364095\n",
      "Saved buffer (41, 1, 64, 192, 192) (41, 1, 64, 192, 192)\n",
      "Done volume 66\n",
      "# Load volume 75 completed (445, 388, 388) (445, 388, 388)\n",
      "After get box: (445, 307, 388) (445, 307, 388)\n",
      "Generate sub-volume completed (20, 1, 64, 192, 192) (20, 1, 64, 192, 192)\n",
      "+ Random rotation x\n",
      "++ Random crop z\n",
      "+ Random rotation z\n",
      "Generate aug sub-volume completed (20, 1, 64, 192, 192) (20, 1, 64, 192, 192)\n",
      "+ Random rotation y\n",
      "++ Random crop z\n",
      "(307, 307, 64) (307, 307, 64)\n",
      "+ Elastic Transform Perform\n",
      "Generate aug sub-volume completed (20, 1, 64, 192, 192) (20, 1, 64, 192, 192)\n",
      "++ Random crop z\n",
      "Generate aug sub-volume completed (20, 1, 64, 192, 192) (20, 1, 64, 192, 192)\n",
      "Done volume 75\n",
      "# Load volume 81 completed (429, 360, 360) (429, 360, 360)\n",
      "After get box: (429, 279, 359) (429, 279, 359)\n",
      "Generate sub-volume completed (20, 1, 64, 192, 192) (20, 1, 64, 192, 192)\n",
      "+ Random rotation x\n",
      "+ Random rotation y\n",
      "++ Random crop z\n",
      "+ Random rotation z\n",
      "(301, 301, 64) (301, 301, 64)\n",
      "+ Elastic Transform Perform\n",
      "Generate aug sub-volume completed (20, 1, 64, 192, 192) (20, 1, 64, 192, 192)\n",
      "++ Random crop z\n",
      "(279, 279, 64) (279, 279, 64)\n",
      "+ Elastic Transform Perform\n",
      "Generate aug sub-volume completed (20, 1, 64, 192, 192) (20, 1, 64, 192, 192)\n",
      "++ Random crop z\n",
      "Generate aug sub-volume completed (20, 1, 64, 192, 192) (20, 1, 64, 192, 192)\n",
      "%Liver: 0.12602527406480576\n",
      "Saved buffer (1, 1, 64, 192, 192) (1, 1, 64, 192, 192)\n",
      "Done volume 81\n",
      "# Load volume 84 completed (513, 388, 388) (513, 388, 388)\n",
      "After get box: (513, 344, 388) (513, 344, 388)\n",
      "Generate sub-volume completed (20, 1, 64, 192, 192) (20, 1, 64, 192, 192)\n",
      "+ Random rotation y\n",
      "++ Random crop z\n",
      "+ Random rotation z\n",
      "(400, 400, 64) (400, 400, 64)\n",
      "+ Elastic Transform Perform\n",
      "Generate aug sub-volume completed (20, 1, 64, 192, 192) (20, 1, 64, 192, 192)\n",
      "++ Random crop z\n",
      "(344, 344, 64) (344, 344, 64)\n",
      "+ Elastic Transform Perform\n",
      "Generate aug sub-volume completed (20, 1, 64, 192, 192) (20, 1, 64, 192, 192)\n",
      "+ Random rotation x\n",
      "++ Random crop z\n",
      "(344, 344, 64) (344, 344, 64)\n",
      "+ Elastic Transform Perform\n",
      "Generate aug sub-volume completed (20, 1, 64, 192, 192) (20, 1, 64, 192, 192)\n",
      "Done volume 84\n",
      "# Load volume 95 completed (673, 378, 378) (673, 378, 378)\n",
      "After get box: (673, 324, 378) (673, 324, 378)\n",
      "Generate sub-volume completed (20, 1, 64, 192, 192) (20, 1, 64, 192, 192)\n",
      "++ Random crop z\n",
      "Generate aug sub-volume completed (20, 1, 64, 192, 192) (20, 1, 64, 192, 192)\n",
      "++ Random crop z\n",
      "Generate aug sub-volume completed (20, 1, 64, 192, 192) (20, 1, 64, 192, 192)\n",
      "++ Random crop z\n",
      "+ Random rotation z\n",
      "(415, 415, 64) (415, 415, 64)\n",
      "+ Elastic Transform Perform\n",
      "Generate aug sub-volume completed (20, 1, 64, 192, 192) (20, 1, 64, 192, 192)\n",
      "Done volume 95\n",
      "# Load volume 96 completed (505, 382, 382) (505, 382, 382)\n",
      "After get box: (505, 302, 382) (505, 302, 382)\n",
      "Generate sub-volume completed (20, 1, 64, 192, 192) (20, 1, 64, 192, 192)\n",
      "+ Random rotation x\n",
      "++ Random crop z\n",
      "(302, 302, 64) (302, 302, 64)\n",
      "+ Elastic Transform Perform\n",
      "Generate aug sub-volume completed (20, 1, 64, 192, 192) (20, 1, 64, 192, 192)\n",
      "+ Random rotation x\n",
      "+ Random rotation y\n",
      "++ Random crop z\n",
      "(302, 302, 64) (302, 302, 64)\n",
      "+ Elastic Transform Perform\n",
      "Generate aug sub-volume completed (20, 1, 64, 192, 192) (20, 1, 64, 192, 192)\n",
      "+ Random rotation x\n",
      "+ Random rotation y\n",
      "++ Random crop z\n",
      "(302, 302, 64) (302, 302, 64)\n",
      "+ Elastic Transform Perform\n",
      "Generate aug sub-volume completed (20, 1, 64, 192, 192) (20, 1, 64, 192, 192)\n",
      "%Liver: 0.12143272187974719\n",
      "Saved buffer (41, 1, 64, 192, 192) (41, 1, 64, 192, 192)\n",
      "Done volume 96\n",
      "# Load volume 103 completed (478, 438, 438) (478, 438, 438)\n",
      "After get box: (478, 322, 417) (478, 322, 417)\n",
      "Generate sub-volume completed (20, 1, 64, 192, 192) (20, 1, 64, 192, 192)\n",
      "+ Random rotation x\n",
      "+ Random rotation y\n",
      "++ Random crop z\n",
      "Generate aug sub-volume completed (20, 1, 64, 192, 192) (20, 1, 64, 192, 192)\n",
      "++ Random crop z\n",
      "(322, 322, 64) (322, 322, 64)\n",
      "+ Elastic Transform Perform\n",
      "Generate aug sub-volume completed (20, 1, 64, 192, 192) (20, 1, 64, 192, 192)\n",
      "+ Random rotation x\n",
      "+ Random rotation y\n",
      "++ Random crop z\n",
      "+ Random rotation z\n",
      "(395, 395, 64) (395, 395, 64)\n",
      "+ Elastic Transform Perform\n",
      "Generate aug sub-volume completed (20, 1, 64, 192, 192) (20, 1, 64, 192, 192)\n",
      "Done volume 103\n",
      "# Load volume 127 completed (691, 394, 394) (691, 394, 394)\n",
      "After get box: (691, 306, 394) (691, 306, 394)\n",
      "Generate sub-volume completed (20, 1, 64, 192, 192) (20, 1, 64, 192, 192)\n",
      "+ Random rotation x\n",
      "++ Random crop z\n",
      "Generate aug sub-volume completed (20, 1, 64, 192, 192) (20, 1, 64, 192, 192)\n",
      "+ Random rotation x\n",
      "++ Random crop z\n",
      "Generate aug sub-volume completed (20, 1, 64, 192, 192) (20, 1, 64, 192, 192)\n",
      "+ Random rotation y\n",
      "++ Random crop z\n",
      "Generate aug sub-volume completed (20, 1, 64, 192, 192) (20, 1, 64, 192, 192)\n",
      "%Liver: 0.10385516272650824\n",
      "Saved buffer (1, 1, 64, 192, 192) (1, 1, 64, 192, 192)\n",
      "Done volume 127\n",
      "# Load volume 139 completed (210, 382, 382) (210, 382, 382)\n",
      "After get box: (210, 298, 382) (210, 298, 382)\n",
      "Generate sub-volume completed (20, 1, 64, 192, 192) (20, 1, 64, 192, 192)\n",
      "++ Random crop z\n",
      "Generate aug sub-volume completed (20, 1, 64, 192, 192) (20, 1, 64, 192, 192)\n",
      "++ Random crop z\n",
      "+ Random rotation z\n",
      "(407, 407, 64) (407, 407, 64)\n",
      "+ Elastic Transform Perform\n",
      "Generate aug sub-volume completed (20, 1, 64, 192, 192) (20, 1, 64, 192, 192)\n",
      "++ Random crop z\n",
      "+ Random rotation z\n",
      "(408, 408, 64) (408, 408, 64)\n",
      "+ Elastic Transform Perform\n",
      "Generate aug sub-volume completed (20, 1, 64, 192, 192) (20, 1, 64, 192, 192)\n",
      "Done volume 139\n",
      "# Load volume 144 completed (645, 368, 368) (645, 368, 368)\n",
      "After get box: (645, 323, 368) (645, 323, 368)\n",
      "Generate sub-volume completed (20, 1, 64, 192, 192) (20, 1, 64, 192, 192)\n",
      "++ Random crop z\n",
      "Generate aug sub-volume completed (20, 1, 64, 192, 192) (20, 1, 64, 192, 192)\n",
      "++ Random crop z\n",
      "+ Random rotation z\n",
      "(359, 359, 64) (359, 359, 64)\n",
      "+ Elastic Transform Perform\n",
      "Generate aug sub-volume completed (20, 1, 64, 192, 192) (20, 1, 64, 192, 192)\n",
      "++ Random crop z\n",
      "Generate aug sub-volume completed (20, 1, 64, 192, 192) (20, 1, 64, 192, 192)\n",
      "Done volume 144\n",
      "# Load volume 147 completed (242, 350, 350) (242, 350, 350)\n",
      "After get box: (242, 293, 350) (242, 293, 350)\n",
      "Generate sub-volume completed (20, 1, 64, 192, 192) (20, 1, 64, 192, 192)\n",
      "+ Random rotation y\n",
      "++ Random crop z\n",
      "+ Random rotation z\n",
      "(295, 295, 64) (295, 295, 64)\n",
      "+ Elastic Transform Perform\n",
      "Generate aug sub-volume completed (20, 1, 64, 192, 192) (20, 1, 64, 192, 192)\n",
      "+ Random rotation x\n",
      "++ Random crop z\n",
      "+ Random rotation z\n",
      "Generate aug sub-volume completed (20, 1, 64, 192, 192) (20, 1, 64, 192, 192)\n",
      "++ Random crop z\n",
      "(293, 293, 64) (293, 293, 64)\n",
      "+ Elastic Transform Perform\n",
      "Generate aug sub-volume completed (20, 1, 64, 192, 192) (20, 1, 64, 192, 192)\n",
      "%Liver: 0.14623880174424914\n",
      "Saved buffer (41, 1, 64, 192, 192) (41, 1, 64, 192, 192)\n",
      "Done volume 147\n",
      "# Load volume 156 completed (216, 398, 398) (216, 398, 398)\n",
      "After get box: (216, 324, 377) (216, 324, 377)\n",
      "Generate sub-volume completed (20, 1, 64, 192, 192) (20, 1, 64, 192, 192)\n",
      "+ Random rotation x\n",
      "+ Random rotation y\n",
      "++ Random crop z\n",
      "(324, 324, 64) (324, 324, 64)\n",
      "+ Elastic Transform Perform\n",
      "Generate aug sub-volume completed (20, 1, 64, 192, 192) (20, 1, 64, 192, 192)\n",
      "++ Random crop z\n",
      "Generate aug sub-volume completed (20, 1, 64, 192, 192) (20, 1, 64, 192, 192)\n",
      "++ Random crop z\n",
      "(324, 324, 64) (324, 324, 64)\n",
      "+ Elastic Transform Perform\n",
      "Generate aug sub-volume completed (20, 1, 64, 192, 192) (20, 1, 64, 192, 192)\n",
      "Done volume 156\n",
      "# Load volume 162 completed (260, 348, 348) (260, 348, 348)\n",
      "After get box: (260, 269, 345) (260, 269, 345)\n",
      "Generate sub-volume completed (20, 1, 64, 192, 192) (20, 1, 64, 192, 192)\n",
      "+ Random rotation y\n",
      "++ Random crop z\n",
      "(269, 269, 64) (269, 269, 64)\n",
      "+ Elastic Transform Perform\n",
      "Generate aug sub-volume completed (20, 1, 64, 192, 192) (20, 1, 64, 192, 192)\n",
      "++ Random crop z\n",
      "(269, 269, 64) (269, 269, 64)\n",
      "+ Elastic Transform Perform\n",
      "Generate aug sub-volume completed (20, 1, 64, 192, 192) (20, 1, 64, 192, 192)\n",
      "+ Random rotation y\n",
      "++ Random crop z\n",
      "Generate aug sub-volume completed (20, 1, 64, 192, 192) (20, 1, 64, 192, 192)\n",
      "%Liver: 0.12560474607679578\n",
      "Saved buffer (1, 1, 64, 192, 192) (1, 1, 64, 192, 192)\n",
      "Done volume 162\n",
      "# Load volume 168 completed (185, 378, 378) (185, 378, 378)\n",
      "After get box: (185, 293, 378) (185, 293, 378)\n",
      "Generate sub-volume completed (20, 1, 64, 192, 192) (20, 1, 64, 192, 192)\n",
      "+ Random rotation x\n",
      "++ Random crop z\n",
      "+ Random rotation z\n",
      "Generate aug sub-volume completed (20, 1, 64, 192, 192) (20, 1, 64, 192, 192)\n",
      "+ Random rotation y\n",
      "++ Random crop z\n",
      "+ Random rotation z\n",
      "Generate aug sub-volume completed (20, 1, 64, 192, 192) (20, 1, 64, 192, 192)\n",
      "++ Random crop z\n",
      "+ Random rotation z\n",
      "(392, 392, 64) (392, 392, 64)\n",
      "+ Elastic Transform Perform\n",
      "Generate aug sub-volume completed (20, 1, 64, 192, 192) (20, 1, 64, 192, 192)\n",
      "Done volume 168\n",
      "%Liver: 0.19239935874938965\n",
      "Saved the last buffer\n",
      "Total sub-volume: 1680\n",
      "9 1680\n"
     ]
    }
   ],
   "source": [
    "gendata = GenData(use_preprocess=False, get_box_threshold=True, pth_dir=PTH_DIR, lst_idx=LST_IDX, vol_size=VOL_SIZE, random_crop=RANDOM_CROP,\n",
    "                  n_subvol_per_vol=N_SUBVOL_PER_VOL, hu_min=HU_MIN, hu_max=HU_MAX, \n",
    "                  ad_iterations=AD_ITERATIONS,\n",
    "                  buffer_capacity=BUFFER_CAPACITY,\n",
    "                  save_dir=SAVE_DIR, n_aug_samples=N_AUG_SAMPLES,\n",
    "                  rotate_prob=ROTATE_PROB, elastic_prob=ELASTIC_PROB,\n",
    "                  max_rotate_angle_x=MAX_ROTATE_ANGLE_X,\n",
    "                  max_rotate_angle_y=MAX_ROTATE_ANGLE_Y,\n",
    "                  max_rotate_angle_z=MAX_ROTATE_ANGLE_Z)\n",
    "\n",
    "count_buffer, count = gendata.run()\n",
    "print(count_buffer, count)"
   ]
  },
  {
   "cell_type": "code",
   "execution_count": null,
   "metadata": {
    "colab": {},
    "colab_type": "code",
    "id": "tH9PAJaoLQsX"
   },
   "outputs": [],
   "source": [
    "# Play an audio beep. Any audio URL will do.\n",
    "from google.colab import output\n",
    "output.eval_js('new Audio(\"https://upload.wikimedia.org/wikipedia/commons/0/05/Beep-09.ogg\").play()')"
   ]
  },
  {
   "cell_type": "code",
   "execution_count": null,
   "metadata": {
    "colab": {
     "base_uri": "https://localhost:8080/",
     "height": 67
    },
    "colab_type": "code",
    "id": "ALozn1MZTdjA",
    "outputId": "a64d3fe6-661e-4cd5-8582-2b087dbc9e49"
   },
   "outputs": [
    {
     "name": "stdout",
     "output_type": "stream",
     "text": [
      "1680\n",
      "torch.Size([1, 64, 192, 192])\n",
      "torch.Size([1, 64, 192, 192])\n"
     ]
    }
   ],
   "source": [
    "# Check the result\n",
    "idx = 21\n",
    "VOL_DIR = SAVE_DIR + 'volumes/'\n",
    "MASK_DIR = SAVE_DIR + 'masks/'\n",
    "\n",
    "count = int(torch.load(SAVE_DIR + 'info.pth').item())\n",
    "sub_volume = torch.load(VOL_DIR + f'{count_buffer-1}/vol_{idx}.pth') \n",
    "sub_mask = torch.load(MASK_DIR + f'{count_buffer-1}/vol_{idx}.pth') \n",
    "print(count)\n",
    "print(sub_volume.shape)\n",
    "print(sub_mask.shape)"
   ]
  },
  {
   "cell_type": "code",
   "execution_count": null,
   "metadata": {
    "colab": {
     "base_uri": "https://localhost:8080/",
     "height": 34
    },
    "colab_type": "code",
    "id": "U_1kYtsSkmDY",
    "outputId": "1ed0ab97-952b-4e02-fd12-4778d4172049"
   },
   "outputs": [
    {
     "data": {
      "text/plain": [
       "tensor(837252)"
      ]
     },
     "execution_count": 16,
     "metadata": {
      "tags": []
     },
     "output_type": "execute_result"
    }
   ],
   "source": [
    "torch.sum(sub_mask)"
   ]
  },
  {
   "cell_type": "code",
   "execution_count": null,
   "metadata": {
    "colab": {
     "base_uri": "https://localhost:8080/",
     "height": 286
    },
    "colab_type": "code",
    "id": "uC0UNWq2K9OO",
    "outputId": "98d024d6-55a2-4ff3-82cc-c8cf2fddfaca"
   },
   "outputs": [
    {
     "data": {
      "text/plain": [
       "<matplotlib.image.AxesImage at 0x7f94bdace438>"
      ]
     },
     "execution_count": 17,
     "metadata": {
      "tags": []
     },
     "output_type": "execute_result"
    },
    {
     "data": {
      "image/png": "[encoded data removed]",
      "text/plain": [
       "<Figure size 432x288 with 1 Axes>"
      ]
     },
     "metadata": {
      "needs_background": "light",
      "tags": []
     },
     "output_type": "display_data"
    }
   ],
   "source": [
    "plt.imshow(sub_volume[0, 50], cmap='gray')"
   ]
  },
  {
   "cell_type": "code",
   "execution_count": null,
   "metadata": {
    "colab": {
     "base_uri": "https://localhost:8080/",
     "height": 286
    },
    "colab_type": "code",
    "id": "AOLd8_xILQXE",
    "outputId": "8506e4fc-fa42-4447-add7-c2d8bf392d8a"
   },
   "outputs": [
    {
     "data": {
      "text/plain": [
       "<matplotlib.image.AxesImage at 0x7f94bdaaf5c0>"
      ]
     },
     "execution_count": 18,
     "metadata": {
      "tags": []
     },
     "output_type": "execute_result"
    },
    {
     "data": {
      "image/png": "[encoded data removed]",
      "text/plain": [
       "<Figure size 432x288 with 1 Axes>"
      ]
     },
     "metadata": {
      "needs_background": "light",
      "tags": []
     },
     "output_type": "display_data"
    }
   ],
   "source": [
    "plt.imshow(sub_mask[0, 50], cmap='gray')"
   ]
  },
  {
   "cell_type": "code",
   "execution_count": null,
   "metadata": {
    "colab": {},
    "colab_type": "code",
    "id": "tUJ3I6XIJQ6i"
   },
   "outputs": [],
   "source": []
  }
 ],
 "metadata": {
  "colab": {
   "collapsed_sections": [],
   "machine_shape": "hm",
   "name": "Gen_Data_Liver3D.ipynb",
   "provenance": []
  },
  "kernelspec": {
   "display_name": "Python 3",
   "language": "python",
   "name": "python3"
  },
  "language_info": {
   "codemirror_mode": {
    "name": "ipython",
    "version": 3
   },
   "file_extension": ".py",
   "mimetype": "text/x-python",
   "name": "python",
   "nbconvert_exporter": "python",
   "pygments_lexer": "ipython3",
   "version": "3.6.9"
  }
 },
 "nbformat": 4,
 "nbformat_minor": 4
}
